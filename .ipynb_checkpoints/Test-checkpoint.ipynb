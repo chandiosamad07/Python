{
 "cells": [
  {
   "cell_type": "code",
   "execution_count": 1,
   "id": "1bc38d83-415d-4c45-ab00-0b624ac9366f",
   "metadata": {},
   "outputs": [
    {
     "name": "stdout",
     "output_type": "stream",
     "text": [
      "hello\n"
     ]
    }
   ],
   "source": [
    "print(\"hello\")"
   ]
  },
  {
   "cell_type": "code",
   "execution_count": 2,
   "id": "16465343-48d1-4252-a1cb-653529a84520",
   "metadata": {},
   "outputs": [
    {
     "name": "stdout",
     "output_type": "stream",
     "text": [
      "Hello I am Abdul Samad\n"
     ]
    }
   ],
   "source": [
    "print(\"Hello I am Abdul Samad\")"
   ]
  },
  {
   "cell_type": "code",
   "execution_count": 3,
   "id": "fff82719-e156-4706-ad91-5f7be86ef92f",
   "metadata": {},
   "outputs": [
    {
     "name": "stdout",
     "output_type": "stream",
     "text": [
      "Above comment is Single line Comment\n"
     ]
    }
   ],
   "source": [
    "#Single line comment\n",
    "print(\"Above comment is Single line Comment\")"
   ]
  },
  {
   "cell_type": "code",
   "execution_count": null,
   "id": "6f4825a2-cb27-4a59-8906-b985f2e4dfab",
   "metadata": {},
   "outputs": [],
   "source": [
    "# Multiple Line comment\n",
    "# print(\"Above comment is Single line Comment\")"
   ]
  }
 ],
 "metadata": {
  "kernelspec": {
   "display_name": "Python 3 (ipykernel)",
   "language": "python",
   "name": "python3"
  },
  "language_info": {
   "codemirror_mode": {
    "name": "ipython",
    "version": 3
   },
   "file_extension": ".py",
   "mimetype": "text/x-python",
   "name": "python",
   "nbconvert_exporter": "python",
   "pygments_lexer": "ipython3",
   "version": "3.12.3"
  }
 },
 "nbformat": 4,
 "nbformat_minor": 5
}
